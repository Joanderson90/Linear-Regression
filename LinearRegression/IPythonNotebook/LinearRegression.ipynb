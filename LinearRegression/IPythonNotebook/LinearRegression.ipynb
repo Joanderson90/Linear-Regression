{
 "cells": [
  {
   "cell_type": "code",
   "execution_count": 41,
   "id": "3b86d597",
   "metadata": {},
   "outputs": [
    {
     "data": {
      "image/png": "[encoded data removed]",
      "text/plain": [
       "<Figure size 432x288 with 1 Axes>"
      ]
     },
     "metadata": {
      "needs_background": "light"
     },
     "output_type": "display_data"
    }
   ],
   "source": [
    "from matplotlib import pyplot as plt\n",
    "import pandas as pd\n",
    "import pylab as pl\n",
    "import numpy as np\n",
    "from sklearn import linear_model\n",
    "from sklearn.metrics import r2_score, mean_squared_error,mean_absolute_error\n",
    "from sklearn.model_selection import train_test_split\n",
    "from math import sqrt\n",
    "\n",
    "df_cars = pd.read_csv(\"CarPrice_Assignment.csv\")\n",
    "\n",
    "\n",
    "x =  df_cars[['horsepower']]\n",
    "y = df_cars[['price']]\n",
    "\n",
    "\n",
    "x_train, x_test, y_train, y_test = train_test_split(x, y, test_size=0.2)\n",
    "\n",
    "\n",
    "plt.scatter(x_train, y_train, color='blue')\n",
    "plt.xlabel(\"Horse Power\")\n",
    "plt.ylabel(\"Price\")\n",
    "plt.show()\n"
   ]
  },
  {
   "cell_type": "code",
   "execution_count": 44,
   "id": "f3e6045d",
   "metadata": {},
   "outputs": [],
   "source": [
    "modelo =  linear_model.LinearRegression()\n",
    "\n",
    "modelo.fit(x_train, y_train)\n",
    "\n",
    "predic = modelo.predict(x_test)\n"
   ]
  },
  {
   "cell_type": "code",
   "execution_count": 45,
   "id": "6767c743",
   "metadata": {},
   "outputs": [
    {
     "name": "stdout",
     "output_type": "stream",
     "text": [
      "(SSE): 935692406.89 \n",
      "(MSE): 22821766.02181\n",
      "(MAE): 3311.02565\n",
      "(RMSE): 4777.21321 \n",
      "R2-score: 0.66\n"
     ]
    }
   ],
   "source": [
    "print(\"(SSE): %.2f \" % np.sum((predic - y_test)**2))\n",
    "print(\"(MSE): %.5f\" % mean_squared_error(y_test, predic))\n",
    "print(\"(MAE): %.5f\" % mean_absolute_error(y_test, predic))\n",
    "print (\"(RMSE): %.5f \" % sqrt(mean_squared_error(y_test, predic)))\n",
    "print(\"R2-score: %.2f\" % r2_score(y_test, predic)) "
   ]
  },
  {
   "cell_type": "code",
   "execution_count": null,
   "id": "c77a1814",
   "metadata": {},
   "outputs": [],
   "source": []
  }
 ],
 "metadata": {
  "kernelspec": {
   "display_name": "Python 3",
   "language": "python",
   "name": "python3"
  },
  "language_info": {
   "codemirror_mode": {
    "name": "ipython",
    "version": 3
   },
   "file_extension": ".py",
   "mimetype": "text/x-python",
   "name": "python",
   "nbconvert_exporter": "python",
   "pygments_lexer": "ipython3",
   "version": "3.8.8"
  }
 },
 "nbformat": 4,
 "nbformat_minor": 5
}
